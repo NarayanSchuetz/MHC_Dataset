{
 "cells": [
  {
   "cell_type": "code",
   "execution_count": 1,
   "metadata": {},
   "outputs": [],
   "source": [
    "import pandas as pd\n",
    "import numpy as np\n",
    "import glob\n",
    "import matplotlib.pyplot as plt\n",
    "import seaborn as sns"
   ]
  },
  {
   "cell_type": "code",
   "execution_count": 2,
   "metadata": {},
   "outputs": [],
   "source": [
    "dfs = []\n",
    "files = glob.glob(\"/scratch/users/schuetzn/data/mhc_dataset/*/metadata.parquet\")\n",
    "for file in files:\n",
    "    hq = file.split(\"/\")[-2]\n",
    "    df = pd.read_parquet(file)\n",
    "    df[\"healthCode\"] = hq\n",
    "    dfs.append(df)\n"
   ]
  },
  {
   "cell_type": "code",
   "execution_count": 3,
   "metadata": {},
   "outputs": [],
   "source": [
    "df = pd.concat(dfs)"
   ]
  },
  {
   "cell_type": "code",
   "execution_count": 4,
   "metadata": {},
   "outputs": [],
   "source": [
    "daily_stats_per_modality = []\n",
    "for idx, row in df.groupby([\"healthCode\", \"date\"]):\n",
    "    # Common data for all entries\n",
    "    healthCode = row[\"healthCode\"].iloc[0]\n",
    "    date = row[\"date\"].iloc[0]\n",
    "    \n",
    "    # Map specific variables to their corresponding indices in the dataframe\n",
    "    variable_mappings = {\n",
    "        \"WorkoutsAny\": [14, 15, 16, 17, 18, 19, 20, 21, 22, 23],  # All workout types\n",
    "        \"WorkoutsRunning\": [16],  # HKWorkoutActivityTypeRunning\n",
    "        \"WorkoutsCycling\": [15],  # HKWorkoutActivityTypeCycling\n",
    "        \"HeartRate\": [5],  # HKQuantityTypeIdentifierHeartRate\n",
    "        \"StepsTaken\": [0],  # HKQuantityTypeIdentifierStepCount\n",
    "        \"DistanceWalkingRunning\": [2],  # HKQuantityTypeIdentifierDistanceWalkingRunning\n",
    "        \"DistanceCycling\": [3],  # HKQuantityTypeIdentifierDistanceCycling\n",
    "        \"ActiveCaloriesBurned\": [1],  # HKQuantityTypeIdentifierActiveEnergyBurned\n",
    "        \"SleepAny\": [12, 13]  # Both sleep types - Asleep and InBed\n",
    "    }\n",
    "    \n",
    "    # Create entry for this healthCode/date combination\n",
    "    entry = {\n",
    "        \"healthCode\": healthCode,\n",
    "        \"date\": date\n",
    "    }\n",
    "    \n",
    "    # Calculate data_coverage_sum for each requested variable\n",
    "    for variable_name, indices in variable_mappings.items():\n",
    "        # For variables that map to multiple indices, sum the data_coverage across those indices\n",
    "        if len(indices) > 1:\n",
    "            coverage_sum = row.iloc[indices].data_coverage.sum()\n",
    "        else:\n",
    "            coverage_sum = row.iloc[indices[0]].data_coverage.sum()\n",
    "        \n",
    "        entry[f\"{variable_name}_coverage_sum\"] = coverage_sum\n",
    "    \n",
    "    daily_stats_per_modality.append(entry)\n"
   ]
  },
  {
   "cell_type": "code",
   "execution_count": null,
   "metadata": {},
   "outputs": [],
   "source": [
    "len(daily_stats_per_modality)"
   ]
  },
  {
   "cell_type": "code",
   "execution_count": 2,
   "metadata": {},
   "outputs": [],
   "source": [
    "import pickle\n",
    "#with open(\"../per_modality_daily.pkl\", \"wb\") as f:\n",
    "#    pickle.dump(daily_stats_per_modality, f)\n",
    "with open(\"../per_modality_daily.pkl\", \"rb\") as f:\n",
    "    daily_stats_per_modality = pickle.load(f)"
   ]
  },
  {
   "cell_type": "code",
   "execution_count": 4,
   "metadata": {},
   "outputs": [],
   "source": [
    "coverage_by_modality_df = pd.DataFrame(daily_stats_per_modality)"
   ]
  },
  {
   "cell_type": "code",
   "execution_count": null,
   "metadata": {},
   "outputs": [],
   "source": [
    "\n"
   ]
  },
  {
   "cell_type": "code",
   "execution_count": null,
   "metadata": {},
   "outputs": [],
   "source": [
    "# Create a dictionary to store the results\n",
    "modality_stats = {}\n",
    "\n",
    "# Get the list of modalities (excluding healthCode and date columns)\n",
    "modalities = [col for col in coverage_by_modality_df.columns if col not in ['healthCode', 'date']]\n",
    "\n",
    "# For each modality, calculate days > 0, unique participants, and estimated data points\n",
    "for modality in modalities:\n",
    "    # Filter to only rows where coverage > 0 for this modality\n",
    "    covered_data = coverage_by_modality_df[coverage_by_modality_df[modality] > 0]\n",
    "    \n",
    "    # Count unique days and participants\n",
    "    days_count = len(covered_data)\n",
    "    participants_count = covered_data['healthCode'].nunique()\n",
    "    \n",
    "    # Calculate estimated total data points (coverage of 100 = 1440 data points)\n",
    "    total_coverage = coverage_by_modality_df[modality].sum()\n",
    "    estimated_data_points = total_coverage * (1440/100)\n",
    "    \n",
    "    # Store in results dictionary\n",
    "    modality_stats[modality] = {\n",
    "        'days_with_coverage': days_count,\n",
    "        'unique_participants': participants_count,\n",
    "        'estimated_data_points': int(estimated_data_points)  # Convert to integer for cleaner display\n",
    "    }\n",
    "\n",
    "# Convert to a DataFrame for better display\n",
    "result_df = pd.DataFrame.from_dict(modality_stats, orient='index')\n",
    "\n",
    "# Rename the modalities for clarity\n",
    "modality_names = {\n",
    "    'WorkoutsAny_coverage_sum': 'Workouts (Any Type)',\n",
    "    'WorkoutsRunning_coverage_sum': 'Workouts - Running',\n",
    "    'WorkoutsCycling_coverage_sum': 'Workouts - Cycling',\n",
    "    'HeartRate_coverage_sum': 'Heart Rate',\n",
    "    'StepsTaken_coverage_sum': 'Steps Taken',\n",
    "    'DistanceWalkingRunning_coverage_sum': 'Distance Walking/Running',\n",
    "    'DistanceCycling_coverage_sum': 'Distance Cycling',\n",
    "    'ActiveCaloriesBurned_coverage_sum': 'Active Calories Burned',\n",
    "    'SleepAny_coverage_sum': 'Sleep (Any Type)'\n",
    "}\n",
    "\n",
    "# Create a new dataframe with clear modality names\n",
    "clear_result_df = result_df.copy()\n",
    "clear_result_df.index = [modality_names[idx] for idx in clear_result_df.index]\n",
    "\n",
    "# Format the estimated data points with commas for readability\n",
    "clear_result_df['estimated_data_points'] = clear_result_df['estimated_data_points'].apply(lambda x: f\"{x:,}\")\n",
    "\n",
    "# Display the results\n",
    "print(\"Coverage statistics for each modality:\")\n",
    "print(clear_result_df)\n",
    "\n",
    "# Optionally, sort by number of days with coverage to see most common modalities\n",
    "print(\"\\nModalities sorted by coverage (most to least):\")\n",
    "print(clear_result_df.sort_values('days_with_coverage', ascending=False))"
   ]
  },
  {
   "cell_type": "code",
   "execution_count": 4,
   "metadata": {},
   "outputs": [],
   "source": [
    "stats = df.groupby(\"healthCode\")[\"date\"].apply(lambda x: len(np.unique(x)))"
   ]
  },
  {
   "cell_type": "code",
   "execution_count": null,
   "metadata": {},
   "outputs": [],
   "source": [
    "counts_series = coverage_df.groupby(\"healthCode\").data_coverage_sum.count()\n",
    "thresholds = [1, 3, 7, 14, 30, 365, 5 * 365]\n",
    "values = [(counts_series > t).sum() for t in thresholds]\n",
    "counts = [(counts_series > t).sum() for t in thresholds]\n",
    "\n",
    "\n",
    "sns.set(style=\"whitegrid\")\n",
    "plt.figure(figsize=(10, 6))\n",
    "ax = sns.barplot(x=[str(t) for t in thresholds], y=counts, palette=\"viridis\")\n",
    "for i, count in enumerate(counts):\n",
    "    ax.text(i, count + max(counts) * 0.01, str(count), ha='center', va='bottom', fontsize=12)\n",
    "plt.xlabel(\"Threshold\")\n",
    "plt.ylabel(\"Number of rows with count > threshold\")\n",
    "plt.title(\"Rows with counts above various thresholds\")\n",
    "plt.show()"
   ]
  },
  {
   "cell_type": "code",
   "execution_count": 6,
   "metadata": {},
   "outputs": [],
   "source": [
    "daily_stats = []\n",
    "for idx, row in df.groupby([\"healthCode\", \"date\"]):\n",
    "    data_coverage_sum = row.data_coverage.sum()\n",
    "    data_coverage_mean = row.data_coverage.mean()\n",
    "    n_above_zero = row[row.data_coverage > 0]\n",
    "    daily_stats.append({\n",
    "        \"data_coverage_sum\": data_coverage_sum,\n",
    "        \"data_coverage_mean\": data_coverage_mean,\n",
    "        \"n_above_zero\": len(n_above_zero),\n",
    "        \"healthCode\": row[\"healthCode\"].iloc[0]\n",
    "    })"
   ]
  },
  {
   "cell_type": "code",
   "execution_count": null,
   "metadata": {},
   "outputs": [],
   "source": [
    "data_coverage_mean"
   ]
  },
  {
   "cell_type": "code",
   "execution_count": null,
   "metadata": {},
   "outputs": [],
   "source": [
    "len(daily_stats)"
   ]
  },
  {
   "cell_type": "code",
   "execution_count": null,
   "metadata": {},
   "outputs": [],
   "source": [
    "daily_stats"
   ]
  },
  {
   "cell_type": "code",
   "execution_count": 1,
   "metadata": {},
   "outputs": [],
   "source": [
    "import pickle\n",
    "#with open(\"../summary_daily.pkl\", \"wb\") as f:\n",
    "#    pickle.dump(daily_stats, f)\n",
    "with open(\"../summary_daily.pkl\", \"rb\") as f:\n",
    "    daily_stats = pickle.load(f)"
   ]
  },
  {
   "cell_type": "code",
   "execution_count": null,
   "metadata": {},
   "outputs": [],
   "source": [
    "coverage_df.groupby(\"healthCode\").data_coverage_sum.count()"
   ]
  },
  {
   "cell_type": "code",
   "execution_count": 3,
   "metadata": {},
   "outputs": [],
   "source": [
    "info_df = pd.read_parquet('../myheart-counts-client/mhc_full_participant_info.parquet')"
   ]
  },
  {
   "cell_type": "code",
   "execution_count": 4,
   "metadata": {},
   "outputs": [],
   "source": [
    "healthCodes_open_sharing = set(info_df[info_df.sharingScope == \"all_qualified_researchers\"].healthCode)"
   ]
  },
  {
   "cell_type": "code",
   "execution_count": null,
   "metadata": {},
   "outputs": [],
   "source": [
    "healthCodes_open_sharing"
   ]
  },
  {
   "cell_type": "code",
   "execution_count": null,
   "metadata": {},
   "outputs": [],
   "source": [
    "coverage_df = pd.DataFrame(daily_stats)\n",
    "len(coverage_df)"
   ]
  },
  {
   "cell_type": "code",
   "execution_count": 7,
   "metadata": {},
   "outputs": [],
   "source": [
    "coverage_df = coverage_df[coverage_df.healthCode.isin(healthCodes_open_sharing)]"
   ]
  },
  {
   "cell_type": "markdown",
   "metadata": {},
   "source": [
    "## Days with ANY data"
   ]
  },
  {
   "cell_type": "code",
   "execution_count": null,
   "metadata": {},
   "outputs": [],
   "source": [
    "len(coverage_df[coverage_df.data_coverage_sum > 0])"
   ]
  },
  {
   "cell_type": "code",
   "execution_count": null,
   "metadata": {},
   "outputs": [],
   "source": [
    "coverage_df[coverage_df.data_coverage_sum > 0].healthCode.unique().shape"
   ]
  },
  {
   "cell_type": "code",
   "execution_count": null,
   "metadata": {},
   "outputs": [],
   "source": [
    "import pandas as pd\n",
    "import matplotlib.pyplot as plt\n",
    "import seaborn as sns\n",
    "import numpy as np\n",
    "\n",
    "thresholds = [2, 3, 5, 8, 10, 15, 24]\n",
    "counts = [len(coverage_df[coverage_df.n_above_zero >= t]) for t in thresholds]\n",
    "\n",
    "sns.set(style=\"whitegrid\")\n",
    "plt.figure(figsize=(10, 6))\n",
    "ax = sns.barplot(x=[str(t) for t in thresholds], y=counts, palette=\"viridis\")\n",
    "for i, count in enumerate(counts):\n",
    "    ax.text(i, count + max(counts)*0.01, str(count), ha='center', va='bottom', fontsize=12)\n",
    "plt.xlabel(\"Threshold\")\n",
    "plt.ylabel(\"Number of rows with at least k number of modalities\")\n",
    "#plt.title(\"Rows with n_above_zero above various thresholds\")\n",
    "plt.show()"
   ]
  },
  {
   "cell_type": "code",
   "execution_count": null,
   "metadata": {},
   "outputs": [],
   "source": [
    "import pandas as pd\n",
    "import numpy as np\n",
    "import matplotlib.pyplot as plt\n",
    "import seaborn as sns\n",
    "\n",
    "thresholds = [2, 3, 5, 8, 10, 15, 24]\n",
    "unique_counts = [coverage_df[coverage_df.n_above_zero > t]['healthCode'].nunique() for t in thresholds]\n",
    "\n",
    "sns.set(style=\"whitegrid\")\n",
    "plt.figure(figsize=(10, 6))\n",
    "ax = sns.barplot(x=[str(t) for t in thresholds], y=unique_counts, palette=\"viridis\")\n",
    "for i, count in enumerate(unique_counts):\n",
    "    ax.text(i, count + max(unique_counts)*0.01, str(count), ha='center', va='bottom', fontsize=12)\n",
    "plt.xlabel(\"Threshold\")\n",
    "plt.ylabel(\"Unique healthCode count\")\n",
    "plt.title(\"Unique healthCodes for rows with n_above_zero > threshold\")\n",
    "plt.show()"
   ]
  },
  {
   "cell_type": "code",
   "execution_count": null,
   "metadata": {},
   "outputs": [],
   "source": []
  }
 ],
 "metadata": {
  "kernelspec": {
   "display_name": "Python 3",
   "language": "python",
   "name": "python3"
  },
  "language_info": {
   "codemirror_mode": {
    "name": "ipython",
    "version": 3
   },
   "file_extension": ".py",
   "mimetype": "text/x-python",
   "name": "python",
   "nbconvert_exporter": "python",
   "pygments_lexer": "ipython3",
   "version": "3.9.0"
  }
 },
 "nbformat": 4,
 "nbformat_minor": 2
}
