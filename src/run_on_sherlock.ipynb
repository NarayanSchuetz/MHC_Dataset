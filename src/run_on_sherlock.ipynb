{
 "cells": [
  {
   "cell_type": "code",
   "execution_count": 1,
   "metadata": {},
   "outputs": [],
   "source": [
    "def main(user_id):\n",
    "    print(\"Processing healthCode: %s\" % user_id)\n",
    "    import os\n",
    "    from collections import defaultdict\n",
    "\n",
    "    from utils import load_data\n",
    "    from create import create_dataset\n",
    "    from constants import FileType\n",
    "\n",
    "\n",
    "    INPUT_BASE_PATH = \"/scratch/users/schuetzn/data/mhc\"\n",
    "    OUTPUT_BASE_PATH = \"/scratch/users/schuetzn/data/mhc_dataset\"\n",
    "\n",
    "\n",
    "    # Check if the directory exists, and create it if not\n",
    "    if not os.path.exists(OUTPUT_BASE_PATH):\n",
    "        os.makedirs(OUTPUT_BASE_PATH)\n",
    "\n",
    "    # Load the data\n",
    "    df_healthkit = load_data(INPUT_BASE_PATH, user_id, \"healthkit\")\n",
    "    df_workout = load_data(INPUT_BASE_PATH, user_id, \"workout\")\n",
    "    df_sleep = load_data(INPUT_BASE_PATH, user_id, \"sleep\")\n",
    "    df_motion = load_data(INPUT_BASE_PATH, user_id, \"motion\")\n",
    "\n",
    "    if df_healthkit.empty:\n",
    "        print(\"No healthkit data found for user %s\" % user_id)\n",
    "        return\n",
    "\n",
    "    output_dir = os.path.join(OUTPUT_BASE_PATH, user_id)\n",
    "\n",
    "    create_dataset(\n",
    "        dfs={\n",
    "            FileType.HEALTHKIT: df_healthkit,\n",
    "            FileType.WORKOUT: df_workout,\n",
    "            FileType.SLEEP: df_sleep,\n",
    "            FileType.MOTION: df_motion\n",
    "        },  \n",
    "        output_root_dir=output_dir,\n",
    "        force_recompute=False\n",
    "    )"
   ]
  },
  {
   "cell_type": "code",
   "execution_count": 2,
   "metadata": {},
   "outputs": [
    {
     "data": {
      "text/plain": [
       "['1bd81e1c-a04d-459e-aabe-469a4ac64a31',\n",
       " 'cda536e0-b7e1-446d-8a5d-3148ec548413',\n",
       " 'e8ce0724-86b3-4671-a310-396dc74addf5',\n",
       " '5451a3b4-b7da-4aa2-91b6-2abd15e59fbf',\n",
       " '79eb7fbd-9d58-4d45-877d-d4803e911197',\n",
       " '8eb1bd45-fc72-461a-9f39-24ab83ee3c33',\n",
       " 'b91b93ff-4596-46a9-890f-e9b9b47596b7',\n",
       " '9388fd38-c73d-43b1-9290-0ec404496fd1',\n",
       " '8c2ec401-b82b-45bf-9d05-58a664e95817',\n",
       " 'cb9a538f-7671-4e55-8120-68ebae9c30b8']"
      ]
     },
     "execution_count": 2,
     "metadata": {},
     "output_type": "execute_result"
    }
   ],
   "source": [
    "# collect all user ids\n",
    "import os\n",
    "root_dir_hk = \"/scratch/users/schuetzn/data/mhc/healthkit/private\"\n",
    "args = [dir.split(\".\")[0] for dir in os.listdir(root_dir_hk) if dir.endswith(\".parquet\")]\n",
    "args[:10]"
   ]
  },
  {
   "cell_type": "code",
   "execution_count": 3,
   "metadata": {},
   "outputs": [
    {
     "name": "stdout",
     "output_type": "stream",
     "text": [
      "Processing healthCode: 939dfc2b-951c-4bbb-b7b7-d86d230d9ded\n",
      "Error loading file at /scratch/users/schuetzn/data/mhc/motion_collector_preprocessed/939dfc2b-951c-4bbb-b7b7-d86d230d9ded.parquet: [Errno 2] No such file or directory: '/scratch/users/schuetzn/data/mhc/motion_collector_preprocessed/939dfc2b-951c-4bbb-b7b7-d86d230d9ded.parquet'\n"
     ]
    },
    {
     "ename": "AttributeError",
     "evalue": "Can only use .dt accessor with datetimelike values",
     "output_type": "error",
     "traceback": [
      "\u001b[0;31m---------------------------------------------------------------------------\u001b[0m",
      "\u001b[0;31mAttributeError\u001b[0m                            Traceback (most recent call last)",
      "Cell \u001b[0;32mIn[3], line 2\u001b[0m\n\u001b[1;32m      1\u001b[0m \u001b[38;5;66;03m# test run\u001b[39;00m\n\u001b[0;32m----> 2\u001b[0m \u001b[43mmain\u001b[49m\u001b[43m(\u001b[49m\u001b[38;5;124;43m'\u001b[39;49m\u001b[38;5;124;43m939dfc2b-951c-4bbb-b7b7-d86d230d9ded\u001b[39;49m\u001b[38;5;124;43m'\u001b[39;49m\u001b[43m)\u001b[49m\n",
      "Cell \u001b[0;32mIn[1], line 31\u001b[0m, in \u001b[0;36mmain\u001b[0;34m(user_id)\u001b[0m\n\u001b[1;32m     27\u001b[0m     \u001b[38;5;28;01mreturn\u001b[39;00m\n\u001b[1;32m     29\u001b[0m output_dir \u001b[38;5;241m=\u001b[39m os\u001b[38;5;241m.\u001b[39mpath\u001b[38;5;241m.\u001b[39mjoin(OUTPUT_BASE_PATH, user_id)\n\u001b[0;32m---> 31\u001b[0m \u001b[43mcreate_dataset\u001b[49m\u001b[43m(\u001b[49m\n\u001b[1;32m     32\u001b[0m \u001b[43m    \u001b[49m\u001b[43mdfs\u001b[49m\u001b[38;5;241;43m=\u001b[39;49m\u001b[43m{\u001b[49m\n\u001b[1;32m     33\u001b[0m \u001b[43m        \u001b[49m\u001b[43mFileType\u001b[49m\u001b[38;5;241;43m.\u001b[39;49m\u001b[43mHEALTHKIT\u001b[49m\u001b[43m:\u001b[49m\u001b[43m \u001b[49m\u001b[43mdf_healthkit\u001b[49m\u001b[43m,\u001b[49m\n\u001b[1;32m     34\u001b[0m \u001b[43m        \u001b[49m\u001b[43mFileType\u001b[49m\u001b[38;5;241;43m.\u001b[39;49m\u001b[43mWORKOUT\u001b[49m\u001b[43m:\u001b[49m\u001b[43m \u001b[49m\u001b[43mdf_workout\u001b[49m\u001b[43m,\u001b[49m\n\u001b[1;32m     35\u001b[0m \u001b[43m        \u001b[49m\u001b[43mFileType\u001b[49m\u001b[38;5;241;43m.\u001b[39;49m\u001b[43mSLEEP\u001b[49m\u001b[43m:\u001b[49m\u001b[43m \u001b[49m\u001b[43mdf_sleep\u001b[49m\u001b[43m,\u001b[49m\n\u001b[1;32m     36\u001b[0m \u001b[43m        \u001b[49m\u001b[43mFileType\u001b[49m\u001b[38;5;241;43m.\u001b[39;49m\u001b[43mMOTION\u001b[49m\u001b[43m:\u001b[49m\u001b[43m \u001b[49m\u001b[43mdf_motion\u001b[49m\n\u001b[1;32m     37\u001b[0m \u001b[43m    \u001b[49m\u001b[43m}\u001b[49m\u001b[43m,\u001b[49m\u001b[43m  \u001b[49m\n\u001b[1;32m     38\u001b[0m \u001b[43m    \u001b[49m\u001b[43moutput_root_dir\u001b[49m\u001b[38;5;241;43m=\u001b[39;49m\u001b[43moutput_dir\u001b[49m\u001b[43m,\u001b[49m\n\u001b[1;32m     39\u001b[0m \u001b[43m    \u001b[49m\u001b[43mforce_recompute\u001b[49m\u001b[38;5;241;43m=\u001b[39;49m\u001b[38;5;28;43;01mFalse\u001b[39;49;00m\n\u001b[1;32m     40\u001b[0m \u001b[43m\u001b[49m\u001b[43m)\u001b[49m\n",
      "File \u001b[0;32m~/MHC_Dataset/src/create.py:159\u001b[0m, in \u001b[0;36mcreate_dataset\u001b[0;34m(dfs, output_root_dir, skip, force_recompute)\u001b[0m\n\u001b[1;32m    156\u001b[0m dfs[file_type] \u001b[38;5;241m=\u001b[39m filter_fn(dfs[file_type])\n\u001b[1;32m    158\u001b[0m \u001b[38;5;66;03m# Adjust times based on file type\u001b[39;00m\n\u001b[0;32m--> 159\u001b[0m \u001b[43m_set_time\u001b[49m\u001b[43m(\u001b[49m\u001b[43mdfs\u001b[49m\u001b[43m[\u001b[49m\u001b[43mfile_type\u001b[49m\u001b[43m]\u001b[49m\u001b[43m,\u001b[49m\u001b[43m \u001b[49m\u001b[43mfile_type\u001b[49m\u001b[43m)\u001b[49m\n\u001b[1;32m    161\u001b[0m \u001b[38;5;66;03m# Split intervals: sleep uses a different split method.\u001b[39;00m\n\u001b[1;32m    162\u001b[0m \u001b[38;5;28;01mif\u001b[39;00m file_type \u001b[38;5;241m==\u001b[39m FileType\u001b[38;5;241m.\u001b[39mSLEEP:\n",
      "File \u001b[0;32m~/MHC_Dataset/src/create.py:85\u001b[0m, in \u001b[0;36m_set_time\u001b[0;34m(df, file_type)\u001b[0m\n\u001b[1;32m     82\u001b[0m     df\u001b[38;5;241m.\u001b[39mindex \u001b[38;5;241m=\u001b[39m df[\u001b[38;5;124m'\u001b[39m\u001b[38;5;124mstartTime\u001b[39m\u001b[38;5;124m'\u001b[39m]\n\u001b[1;32m     84\u001b[0m \u001b[38;5;28;01melif\u001b[39;00m file_type \u001b[38;5;241m==\u001b[39m FileType\u001b[38;5;241m.\u001b[39mWORKOUT:\n\u001b[0;32m---> 85\u001b[0m     df[\u001b[38;5;124m'\u001b[39m\u001b[38;5;124mstartTime\u001b[39m\u001b[38;5;124m'\u001b[39m] \u001b[38;5;241m=\u001b[39m \u001b[43mdf\u001b[49m\u001b[38;5;241;43m.\u001b[39;49m\u001b[43mapply\u001b[49m\u001b[43m(\u001b[49m\u001b[43m_adjust_start_time\u001b[49m\u001b[43m,\u001b[49m\u001b[43m \u001b[49m\u001b[43maxis\u001b[49m\u001b[38;5;241;43m=\u001b[39;49m\u001b[38;5;241;43m1\u001b[39;49m\u001b[43m)\u001b[49m\u001b[38;5;241;43m.\u001b[39;49m\u001b[43mdt\u001b[49m\u001b[38;5;241m.\u001b[39mtz_localize(\u001b[38;5;28;01mNone\u001b[39;00m)\n\u001b[1;32m     86\u001b[0m     df[\u001b[38;5;124m'\u001b[39m\u001b[38;5;124mendTime\u001b[39m\u001b[38;5;124m'\u001b[39m] \u001b[38;5;241m=\u001b[39m df\u001b[38;5;241m.\u001b[39mapply(_adjust_end_time, axis\u001b[38;5;241m=\u001b[39m\u001b[38;5;241m1\u001b[39m)\u001b[38;5;241m.\u001b[39mdt\u001b[38;5;241m.\u001b[39mtz_localize(\u001b[38;5;28;01mNone\u001b[39;00m)\n\u001b[1;32m     87\u001b[0m     df\u001b[38;5;241m.\u001b[39mindex \u001b[38;5;241m=\u001b[39m df[\u001b[38;5;124m'\u001b[39m\u001b[38;5;124mstartTime\u001b[39m\u001b[38;5;124m'\u001b[39m]\n",
      "File \u001b[0;32m~/.local/lib/python3.9/site-packages/pandas/core/generic.py:5902\u001b[0m, in \u001b[0;36mNDFrame.__getattr__\u001b[0;34m(self, name)\u001b[0m\n\u001b[1;32m   5895\u001b[0m \u001b[38;5;28;01mif\u001b[39;00m (\n\u001b[1;32m   5896\u001b[0m     name \u001b[38;5;129;01mnot\u001b[39;00m \u001b[38;5;129;01min\u001b[39;00m \u001b[38;5;28mself\u001b[39m\u001b[38;5;241m.\u001b[39m_internal_names_set\n\u001b[1;32m   5897\u001b[0m     \u001b[38;5;129;01mand\u001b[39;00m name \u001b[38;5;129;01mnot\u001b[39;00m \u001b[38;5;129;01min\u001b[39;00m \u001b[38;5;28mself\u001b[39m\u001b[38;5;241m.\u001b[39m_metadata\n\u001b[1;32m   5898\u001b[0m     \u001b[38;5;129;01mand\u001b[39;00m name \u001b[38;5;129;01mnot\u001b[39;00m \u001b[38;5;129;01min\u001b[39;00m \u001b[38;5;28mself\u001b[39m\u001b[38;5;241m.\u001b[39m_accessors\n\u001b[1;32m   5899\u001b[0m     \u001b[38;5;129;01mand\u001b[39;00m \u001b[38;5;28mself\u001b[39m\u001b[38;5;241m.\u001b[39m_info_axis\u001b[38;5;241m.\u001b[39m_can_hold_identifiers_and_holds_name(name)\n\u001b[1;32m   5900\u001b[0m ):\n\u001b[1;32m   5901\u001b[0m     \u001b[38;5;28;01mreturn\u001b[39;00m \u001b[38;5;28mself\u001b[39m[name]\n\u001b[0;32m-> 5902\u001b[0m \u001b[38;5;28;01mreturn\u001b[39;00m \u001b[38;5;28;43mobject\u001b[39;49m\u001b[38;5;241;43m.\u001b[39;49m\u001b[38;5;21;43m__getattribute__\u001b[39;49m\u001b[43m(\u001b[49m\u001b[38;5;28;43mself\u001b[39;49m\u001b[43m,\u001b[49m\u001b[43m \u001b[49m\u001b[43mname\u001b[49m\u001b[43m)\u001b[49m\n",
      "File \u001b[0;32m~/.local/lib/python3.9/site-packages/pandas/core/accessor.py:182\u001b[0m, in \u001b[0;36mCachedAccessor.__get__\u001b[0;34m(self, obj, cls)\u001b[0m\n\u001b[1;32m    179\u001b[0m \u001b[38;5;28;01mif\u001b[39;00m obj \u001b[38;5;129;01mis\u001b[39;00m \u001b[38;5;28;01mNone\u001b[39;00m:\n\u001b[1;32m    180\u001b[0m     \u001b[38;5;66;03m# we're accessing the attribute of the class, i.e., Dataset.geo\u001b[39;00m\n\u001b[1;32m    181\u001b[0m     \u001b[38;5;28;01mreturn\u001b[39;00m \u001b[38;5;28mself\u001b[39m\u001b[38;5;241m.\u001b[39m_accessor\n\u001b[0;32m--> 182\u001b[0m accessor_obj \u001b[38;5;241m=\u001b[39m \u001b[38;5;28;43mself\u001b[39;49m\u001b[38;5;241;43m.\u001b[39;49m\u001b[43m_accessor\u001b[49m\u001b[43m(\u001b[49m\u001b[43mobj\u001b[49m\u001b[43m)\u001b[49m\n\u001b[1;32m    183\u001b[0m \u001b[38;5;66;03m# Replace the property with the accessor object. Inspired by:\u001b[39;00m\n\u001b[1;32m    184\u001b[0m \u001b[38;5;66;03m# https://www.pydanny.com/cached-property.html\u001b[39;00m\n\u001b[1;32m    185\u001b[0m \u001b[38;5;66;03m# We need to use object.__setattr__ because we overwrite __setattr__ on\u001b[39;00m\n\u001b[1;32m    186\u001b[0m \u001b[38;5;66;03m# NDFrame\u001b[39;00m\n\u001b[1;32m    187\u001b[0m \u001b[38;5;28mobject\u001b[39m\u001b[38;5;241m.\u001b[39m\u001b[38;5;21m__setattr__\u001b[39m(obj, \u001b[38;5;28mself\u001b[39m\u001b[38;5;241m.\u001b[39m_name, accessor_obj)\n",
      "File \u001b[0;32m~/.local/lib/python3.9/site-packages/pandas/core/indexes/accessors.py:512\u001b[0m, in \u001b[0;36mCombinedDatetimelikeProperties.__new__\u001b[0;34m(cls, data)\u001b[0m\n\u001b[1;32m    509\u001b[0m \u001b[38;5;28;01melif\u001b[39;00m is_period_dtype(data\u001b[38;5;241m.\u001b[39mdtype):\n\u001b[1;32m    510\u001b[0m     \u001b[38;5;28;01mreturn\u001b[39;00m PeriodProperties(data, orig)\n\u001b[0;32m--> 512\u001b[0m \u001b[38;5;28;01mraise\u001b[39;00m \u001b[38;5;167;01mAttributeError\u001b[39;00m(\u001b[38;5;124m\"\u001b[39m\u001b[38;5;124mCan only use .dt accessor with datetimelike values\u001b[39m\u001b[38;5;124m\"\u001b[39m)\n",
      "\u001b[0;31mAttributeError\u001b[0m: Can only use .dt accessor with datetimelike values"
     ]
    }
   ],
   "source": [
    "# test run\n",
    "main('939dfc2b-951c-4bbb-b7b7-d86d230d9ded')"
   ]
  },
  {
   "cell_type": "code",
   "execution_count": null,
   "metadata": {},
   "outputs": [],
   "source": [
    "from slurm_pool.main import SlurmMultiNodePool\n",
    "\n",
    "job_manager = SlurmMultiNodePool(num_tasks=500, \n",
    "                              job_name='mhc_dataset_creation', \n",
    "                              log_directory='/scratch/users/schuetzn/logs/mhc_dataset_creation',\n",
    "                              time_limit='16:10:00', \n",
    "                              mem_limit='8G', \n",
    "                              email=\"schuetzn@stanford.edu\",\n",
    "                              partition='owners')\n",
    "                              \n",
    "job_manager.create_submit_job(main, *args)"
   ]
  }
 ],
 "metadata": {
  "kernelspec": {
   "display_name": "venv",
   "language": "python",
   "name": "python3"
  },
  "language_info": {
   "codemirror_mode": {
    "name": "ipython",
    "version": 3
   },
   "file_extension": ".py",
   "mimetype": "text/x-python",
   "name": "python",
   "nbconvert_exporter": "python",
   "pygments_lexer": "ipython3",
   "version": "3.9.0"
  }
 },
 "nbformat": 4,
 "nbformat_minor": 2
}
