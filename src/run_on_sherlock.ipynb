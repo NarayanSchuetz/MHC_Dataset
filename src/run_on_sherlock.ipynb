{
 "cells": [
  {
   "cell_type": "code",
   "execution_count": null,
   "metadata": {},
   "outputs": [],
   "source": [
    "def main(user_id):\n",
    "    print(\"Processing healthCode: %s\" % user_id)\n",
    "    import os\n",
    "    from collections import defaultdict\n",
    "\n",
    "    from utils import load_data\n",
    "    from create import create_dataset\n",
    "    from constants import FileType\n",
    "\n",
    "\n",
    "    INPUT_BASE_PATH = \"/scratch/users/schuetzn/data/mhc\"\n",
    "    OUTPUT_BASE_PATH = \"/scratch/users/schuetzn/data/mhc_dataset\"\n",
    "\n",
    "\n",
    "    # Check if the directory exists, and create it if not\n",
    "    if not os.path.exists(OUTPUT_BASE_PATH):\n",
    "        os.makedirs(OUTPUT_BASE_PATH)\n",
    "\n",
    "    # Load the data\n",
    "    df_healthkit = load_data(INPUT_BASE_PATH, user_id, \"healthkit\")\n",
    "    df_workout = load_data(INPUT_BASE_PATH, user_id, \"workout\")\n",
    "    df_sleep = load_data(INPUT_BASE_PATH, user_id, \"sleep\")\n",
    "    df_motion = load_data(INPUT_BASE_PATH, user_id, \"motion\")\n",
    "\n",
    "    if df_healthkit.empty:\n",
    "        print(\"No healthkit data found for user %s\" % user_id)\n",
    "        return\n",
    "\n",
    "    output_dir = os.path.join(OUTPUT_BASE_PATH, user_id)\n",
    "\n",
    "    create_dataset(\n",
    "        dfs={\n",
    "            FileType.HEALTHKIT: df_healthkit,\n",
    "            FileType.WORKOUT: df_workout,\n",
    "            FileType.SLEEP: df_sleep,\n",
    "            FileType.MOTION: df_motion\n",
    "        },  \n",
    "        output_root_dir=output_dir,\n",
    "        force_recompute=False\n",
    "    )"
   ]
  },
  {
   "cell_type": "code",
   "execution_count": null,
   "metadata": {},
   "outputs": [],
   "source": [
    "# collect all user ids\n",
    "import os\n",
    "root_dir_hk = \"/scratch/users/schuetzn/data/mhc/healthkit/private\"\n",
    "args = [dir.split(\".\")[0] for dir in os.listdir(root_dir_hk) if dir.endswith(\".parquet\")]\n",
    "args[:10]"
   ]
  },
  {
   "cell_type": "code",
   "execution_count": null,
   "metadata": {},
   "outputs": [],
   "source": [
    "# test run\n",
    "main('939dfc2b-951c-4bbb-b7b7-d86d230d9ded')"
   ]
  },
  {
   "cell_type": "code",
   "execution_count": null,
   "metadata": {},
   "outputs": [],
   "source": [
    "from slurm_pool.main import SlurmMultiNodePool\n",
    "\n",
    "job_manager = SlurmMultiNodePool(num_tasks=500, \n",
    "                              job_name='mhc_dataset_creation', \n",
    "                              log_directory='/scratch/users/schuetzn/logs/mhc_dataset_creation',\n",
    "                              time_limit='16:10:00', \n",
    "                              mem_limit='8G', \n",
    "                              email=\"schuetzn@stanford.edu\",\n",
    "                              partition='owners')\n",
    "                              \n",
    "job_manager.create_submit_job(main, *args)"
   ]
  }
 ],
 "metadata": {
  "kernelspec": {
   "display_name": "venv",
   "language": "python",
   "name": "python3"
  },
  "language_info": {
   "name": "python",
   "version": "3.9.6"
  }
 },
 "nbformat": 4,
 "nbformat_minor": 2
}
