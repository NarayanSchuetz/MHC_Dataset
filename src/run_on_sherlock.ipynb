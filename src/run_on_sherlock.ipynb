{
 "cells": [
  {
   "cell_type": "code",
   "execution_count": 5,
   "metadata": {},
   "outputs": [],
   "source": [
    "def main(user_id):\n",
    "    print(\"Processing healthCode: %s\" % user_id)\n",
    "    import os\n",
    "    from collections import defaultdict\n",
    "\n",
    "    from utils import load_data\n",
    "    from create import create_dataset\n",
    "    from constants import FileType\n",
    "\n",
    "\n",
    "    INPUT_BASE_PATH = \"/scratch/users/schuetzn/data/mhc\"\n",
    "    OUTPUT_BASE_PATH = \"/scratch/users/schuetzn/data/mhc_dataset\"\n",
    "\n",
    "\n",
    "    # Check if the directory exists, and create it if not\n",
    "    if not os.path.exists(OUTPUT_BASE_PATH):\n",
    "        os.makedirs(OUTPUT_BASE_PATH)\n",
    "\n",
    "    # Load the data\n",
    "    df_healthkit = load_data(INPUT_BASE_PATH, user_id, \"healthkit\")\n",
    "    df_workout = load_data(INPUT_BASE_PATH, user_id, \"workout\")\n",
    "    df_sleep = load_data(INPUT_BASE_PATH, user_id, \"sleep\")\n",
    "    df_motion = load_data(INPUT_BASE_PATH, user_id, \"motion\")\n",
    "\n",
    "    if df_healthkit.empty:\n",
    "        print(\"No healthkit data found for user %s\" % user_id)\n",
    "        return\n",
    "\n",
    "    output_dir = os.path.join(OUTPUT_BASE_PATH, user_id)\n",
    "\n",
    "    create_dataset(\n",
    "        dfs={\n",
    "            FileType.HEALTHKIT: df_healthkit,\n",
    "            FileType.WORKOUT: df_workout,\n",
    "            FileType.SLEEP: df_sleep,\n",
    "            FileType.MOTION: df_motion\n",
    "        },  \n",
    "        output_root_dir=output_dir,\n",
    "        force_recompute=False,\n",
    "        force_recompute_metadata=True,\n",
    "    )"
   ]
  },
  {
   "cell_type": "code",
   "execution_count": 6,
   "metadata": {},
   "outputs": [
    {
     "data": {
      "text/plain": [
       "['1bd81e1c-a04d-459e-aabe-469a4ac64a31',\n",
       " 'cda536e0-b7e1-446d-8a5d-3148ec548413',\n",
       " 'e8ce0724-86b3-4671-a310-396dc74addf5',\n",
       " '5451a3b4-b7da-4aa2-91b6-2abd15e59fbf',\n",
       " '79eb7fbd-9d58-4d45-877d-d4803e911197',\n",
       " '8eb1bd45-fc72-461a-9f39-24ab83ee3c33',\n",
       " 'b91b93ff-4596-46a9-890f-e9b9b47596b7',\n",
       " '9388fd38-c73d-43b1-9290-0ec404496fd1',\n",
       " '8c2ec401-b82b-45bf-9d05-58a664e95817',\n",
       " 'cb9a538f-7671-4e55-8120-68ebae9c30b8']"
      ]
     },
     "execution_count": 6,
     "metadata": {},
     "output_type": "execute_result"
    }
   ],
   "source": [
    "# collect all user ids\n",
    "import os\n",
    "root_dir_hk = \"/scratch/users/schuetzn/data/mhc/healthkit/private\"\n",
    "args = [dir.split(\".\")[0] for dir in os.listdir(root_dir_hk) if dir.endswith(\".parquet\")]\n",
    "args[:10]"
   ]
  },
  {
   "cell_type": "code",
   "execution_count": 3,
   "metadata": {},
   "outputs": [
    {
     "name": "stdout",
     "output_type": "stream",
     "text": [
      "Processing healthCode: aae4d746-b0af-4e2d-aaf1-3dc1ac25e896\n"
     ]
    }
   ],
   "source": [
    "# test run\n",
    "main(\"aae4d746-b0af-4e2d-aaf1-3dc1ac25e896\")#'939dfc2b-951c-4bbb-b7b7-d86d230d9ded')"
   ]
  },
  {
   "cell_type": "code",
   "execution_count": 7,
   "metadata": {},
   "outputs": [
    {
     "name": "stdout",
     "output_type": "stream",
     "text": [
      "Submitted batch job 60195917\n"
     ]
    }
   ],
   "source": [
    "from slurm_pool.main import SlurmMultiNodePool\n",
    "\n",
    "job_manager = SlurmMultiNodePool(num_tasks=50, \n",
    "                              job_name='mhc_dataset_creation', \n",
    "                              log_directory='/scratch/users/schuetzn/logs/mhc_dataset_creation',\n",
    "                              time_limit='16:10:00', \n",
    "                              mem_limit='64G', \n",
    "                              email=\"schuetzn@stanford.edu\",\n",
    "                              partition='owners')\n",
    "    \n",
    "job_manager.create_submit_job(main, *args)"
   ]
  },
  {
   "cell_type": "code",
   "execution_count": 1,
   "metadata": {},
   "outputs": [],
   "source": [
    "import pandas as pd\n",
    "metadata_df = pd.read_parquet(\"/scratch/users/schuetzn/data/mhc_dataset/939dfc2b-951c-4bbb-b7b7-d86d230d9ded/metadata.parquet\")"
   ]
  },
  {
   "cell_type": "code",
   "execution_count": 2,
   "metadata": {},
   "outputs": [],
   "source": [
    "import numpy as np\n",
    "data = np.load('/scratch/users/schuetzn/data/mhc_dataset/939dfc2b-951c-4bbb-b7b7-d86d230d9ded/2017-01-06.npy')"
   ]
  },
  {
   "cell_type": "code",
   "execution_count": 6,
   "metadata": {},
   "outputs": [
    {
     "data": {
      "text/plain": [
       "(2, 24, 1440)"
      ]
     },
     "execution_count": 6,
     "metadata": {},
     "output_type": "execute_result"
    }
   ],
   "source": [
    "data.shape"
   ]
  },
  {
   "cell_type": "code",
   "execution_count": 5,
   "metadata": {},
   "outputs": [
    {
     "data": {
      "text/plain": [
       "array([[0., 0., 0., ..., 0., 0., 0.],\n",
       "       [0., 1., 1., ..., 0., 0., 0.],\n",
       "       [0., 0., 0., ..., 0., 0., 0.],\n",
       "       ...,\n",
       "       [0., 0., 0., ..., 0., 0., 0.],\n",
       "       [0., 0., 0., ..., 0., 0., 0.],\n",
       "       [0., 0., 0., ..., 0., 0., 0.]], dtype=float32)"
      ]
     },
     "execution_count": 5,
     "metadata": {},
     "output_type": "execute_result"
    }
   ],
   "source": [
    "data[0]  # mask indicating wheter value was observed"
   ]
  },
  {
   "cell_type": "code",
   "execution_count": 6,
   "metadata": {},
   "outputs": [
    {
     "data": {
      "text/plain": [
       "array([[0.       , 0.       , 0.       , ..., 0.       , 0.       ,\n",
       "        0.       ],\n",
       "       [0.       , 1.2989248, 1.4841354, ..., 0.       , 0.       ,\n",
       "        0.       ],\n",
       "       [0.       , 0.       , 0.       , ..., 0.       , 0.       ,\n",
       "        0.       ],\n",
       "       ...,\n",
       "       [      nan,       nan,       nan, ...,       nan,       nan,\n",
       "              nan],\n",
       "       [      nan,       nan,       nan, ...,       nan,       nan,\n",
       "              nan],\n",
       "       [      nan,       nan,       nan, ...,       nan,       nan,\n",
       "              nan]], dtype=float32)"
      ]
     },
     "execution_count": 6,
     "metadata": {},
     "output_type": "execute_result"
    }
   ],
   "source": [
    "data[1]  # actual data"
   ]
  }
 ],
 "metadata": {
  "kernelspec": {
   "display_name": "venv",
   "language": "python",
   "name": "python3"
  },
  "language_info": {
   "codemirror_mode": {
    "name": "ipython",
    "version": 3
   },
   "file_extension": ".py",
   "mimetype": "text/x-python",
   "name": "python",
   "nbconvert_exporter": "python",
   "pygments_lexer": "ipython3",
   "version": "3.9.0"
  }
 },
 "nbformat": 4,
 "nbformat_minor": 2
}
