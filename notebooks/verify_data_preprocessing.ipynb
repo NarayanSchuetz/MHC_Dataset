{
 "cells": [
  {
   "cell_type": "code",
   "execution_count": 2,
   "metadata": {},
   "outputs": [],
   "source": [
    "import pandas as pd"
   ]
  },
  {
   "cell_type": "code",
   "execution_count": 9,
   "metadata": {},
   "outputs": [],
   "source": [
    "df_motion = pd.read_parquet('/Users/narayanschuetz/tmp_data/MHC_healthkit/Wmzvhl88mFNfAXCDqy-dUR9Y.parquet')\n",
    "df_workout = pd.read_parquet('/Users/narayanschuetz/tmp_data/healthkit_sleep.parquet')\n",
    "df_sleep = pd.read_parquet('/Users/narayanschuetz/tmp_data/healthkit_sleep.parquet')"
   ]
  },
  {
   "cell_type": "code",
   "execution_count": null,
   "metadata": {},
   "outputs": [],
   "source": [
    "# Import necessary libraries\n",
    "import matplotlib.pyplot as plt\n",
    "from datetime import datetime\n",
    "\n",
    "# Define the user_id to filter by\n",
    "user_id = \"Wmzvhl88mFNfAXCDqy-dUR9Y\"\n",
    "\n",
    "# Define the date range for filtering\n",
    "start_date = '2017-08-02'\n",
    "end_date = '2017-08-04'\n",
    "\n",
    "# Convert to datetime objects for comparison\n",
    "start_datetime = pd.to_datetime(start_date)\n",
    "end_datetime = pd.to_datetime(end_date) + pd.Timedelta(days=1)  # Include the end date\n",
    "\n",
    "# Filter each dataframe to only include data within the specified date range\n",
    "# Convert timestamps to the same timezone-naive format before comparison\n",
    "df_motion_filtered = df_motion[\n",
    "    (df_motion['startTime'].dt.tz_localize(None) >= start_datetime) & \n",
    "    (df_motion['startTime'].dt.tz_localize(None) < end_datetime)\n",
    "]\n",
    "\n",
    "# Filter workout data by user_id and date range\n",
    "df_workout_filtered = df_workout[\n",
    "    (df_workout['healthCode'] == user_id) &\n",
    "    (df_workout['startTime'].dt.tz_localize(None) >= start_datetime) & \n",
    "    (df_workout['startTime'].dt.tz_localize(None) < end_datetime)\n",
    "]\n",
    "\n",
    "# Filter sleep data by user_id and date range\n",
    "df_sleep_filtered = df_sleep[\n",
    "    (df_sleep['healthCode'] == user_id) &\n",
    "    (df_sleep['startTime'].dt.tz_localize(None) >= start_datetime) & \n",
    "    (df_sleep['startTime'].dt.tz_localize(None) < end_datetime)\n",
    "]\n",
    "\n",
    "# Print the number of records in each filtered dataframe\n",
    "print(f\"Motion data from {start_date} to {end_date}: {len(df_motion_filtered)} records\")\n",
    "print(f\"Workout data for user {user_id} from {start_date} to {end_date}: {len(df_workout_filtered)} records\")\n",
    "print(f\"Sleep data for user {user_id} from {start_date} to {end_date}: {len(df_sleep_filtered)} records\")\n",
    "\n",
    "# Display the first few rows of each filtered dataframe\n",
    "print(\"\\nSample of filtered motion data:\")\n",
    "display(df_motion_filtered.head())\n",
    "\n",
    "print(\"\\nSample of filtered workout data:\")\n",
    "display(df_workout_filtered.head())\n",
    "\n",
    "print(\"\\nSample of filtered sleep data:\")\n",
    "display(df_sleep_filtered.head())\n"
   ]
  },
  {
   "cell_type": "code",
   "execution_count": null,
   "metadata": {},
   "outputs": [],
   "source": [
    "df_motion_filtered.startTime_timezone_offset.value_counts()"
   ]
  },
  {
   "cell_type": "code",
   "execution_count": null,
   "metadata": {},
   "outputs": [],
   "source": [
    "%matplotlib inline\n",
    "plt.close()\n",
    "# Filter heart rate data and plot the time series\n",
    "heart_rate_mask = df_motion_filtered['type'] == 'HKQuantityTypeIdentifierHeartRate'\n",
    "heart_rate_data = df_motion_filtered[heart_rate_mask]\n",
    "\n",
    "# Convert to datetime index for time series plotting\n",
    "heart_rate_data = heart_rate_data.set_index('startTime')\n",
    "heart_rate_data = heart_rate_data.value#.resample('1min').mean()\n",
    "\n",
    "# Plot the heart rate time series\n",
    "plt.figure(figsize=(12, 6))\n",
    "plt.plot(heart_rate_data, 'b-', marker='x', markersize=3)\n",
    "plt.title('Heart Rate Time Series')\n",
    "plt.xlabel('Time')\n",
    "plt.ylabel('Heart Rate (count/s)')\n",
    "plt.grid(True)\n",
    "plt.tight_layout()\n",
    "plt.show()"
   ]
  },
  {
   "cell_type": "code",
   "execution_count": null,
   "metadata": {},
   "outputs": [],
   "source": [
    "heart_rate_data"
   ]
  },
  {
   "cell_type": "code",
   "execution_count": null,
   "metadata": {},
   "outputs": [],
   "source": [
    "df_motion"
   ]
  },
  {
   "cell_type": "code",
   "execution_count": null,
   "metadata": {},
   "outputs": [],
   "source": [
    "import numpy as np\n",
    "import matplotlib.pyplot as plt\n",
    "plt.plot(np.load(\"/var/folders/s5/9tx92s6n1r1g20vf5q0j7gxc0000gp/T/tmpw56anixc/2017-08-03.npy\")[1][5].reshape(-1))\n",
    "plt.show()\n"
   ]
  },
  {
   "cell_type": "code",
   "execution_count": null,
   "metadata": {},
   "outputs": [],
   "source": [
    "heart_rate_data"
   ]
  },
  {
   "cell_type": "code",
   "execution_count": null,
   "metadata": {},
   "outputs": [],
   "source": [
    "df_sleep_filtered.startTime_timezone_offset.value_counts()"
   ]
  },
  {
   "cell_type": "code",
   "execution_count": null,
   "metadata": {},
   "outputs": [],
   "source": [
    "df_workout_filtered.startTime_timezone_offset.value_counts()"
   ]
  },
  {
   "cell_type": "code",
   "execution_count": null,
   "metadata": {},
   "outputs": [],
   "source": [
    "df_motion.head()"
   ]
  },
  {
   "cell_type": "code",
   "execution_count": null,
   "metadata": {},
   "outputs": [],
   "source": [
    "df_workout.head()"
   ]
  },
  {
   "cell_type": "code",
   "execution_count": null,
   "metadata": {},
   "outputs": [],
   "source": [
    "df_sleep.head()"
   ]
  },
  {
   "cell_type": "code",
   "execution_count": null,
   "metadata": {},
   "outputs": [],
   "source": [
    "# Let's visualize data for a single day from each dataframe\n",
    "\n",
    "# First, let's convert the startTime to datetime if it's not already\n",
    "df_motion['startTime'] = pd.to_datetime(df_motion['startTime'])\n",
    "df_workout['startTime'] = pd.to_datetime(df_workout['startTime'])\n",
    "df_sleep['startTime'] = pd.to_datetime(df_sleep['startTime'])\n",
    "\n",
    "# Select a specific date for each dataframe\n",
    "# For motion data\n",
    "sample_date_motion = df_motion['startTime'].dt.date.min()  # Using the earliest date in the dataset\n",
    "motion_day_data = df_motion[df_motion['startTime'].dt.date == sample_date_motion]\n",
    "\n",
    "# For workout data\n",
    "sample_date_workout = df_workout['startTime'].dt.date.min()  # Using the earliest date in the dataset\n",
    "workout_day_data = df_workout[df_workout['startTime'].dt.date == sample_date_workout]\n",
    "\n",
    "# For sleep data\n",
    "sample_date_sleep = df_sleep['startTime'].dt.date.min()  # Using the earliest date in the dataset\n",
    "sleep_day_data = df_sleep[df_sleep['startTime'].dt.date == sample_date_sleep]\n",
    "\n",
    "# Display the data for each day\n",
    "print(f\"Motion data for {sample_date_motion}:\")\n",
    "display(motion_day_data)\n",
    "\n",
    "print(f\"\\nWorkout data for {sample_date_workout}:\")\n",
    "display(workout_day_data)\n",
    "\n",
    "print(f\"\\nSleep data for {sample_date_sleep}:\")\n",
    "display(sleep_day_data)\n",
    "\n",
    "# Visualize the data\n",
    "import matplotlib.pyplot as plt\n",
    "import matplotlib.dates as mdates\n",
    "from matplotlib.ticker import MaxNLocator\n",
    "import numpy as np\n",
    "\n",
    "# Create a figure with 3 subplots\n",
    "fig, (ax1, ax2, ax3) = plt.subplots(3, 1, figsize=(12, 15))\n",
    "\n",
    "# Plot motion data\n",
    "if not motion_day_data.empty and 'value' in motion_day_data.columns:\n",
    "    ax1.scatter(motion_day_data['startTime'], motion_day_data['value'], alpha=0.7)\n",
    "    ax1.set_title(f'Motion Data for {sample_date_motion}')\n",
    "    ax1.set_xlabel('Time')\n",
    "    ax1.set_ylabel('Value')\n",
    "    ax1.xaxis.set_major_formatter(mdates.DateFormatter('%H:%M'))\n",
    "    ax1.grid(True)\n",
    "\n",
    "# Plot workout data\n",
    "if not workout_day_data.empty:\n",
    "    # For workout data, we might want to show different types\n",
    "    if 'type' in workout_day_data.columns:\n",
    "        workout_types = workout_day_data['type'].unique()\n",
    "        for i, workout_type in enumerate(workout_types):\n",
    "            type_data = workout_day_data[workout_day_data['type'] == workout_type]\n",
    "            ax2.scatter(type_data['startTime'], [i] * len(type_data), label=workout_type, alpha=0.7)\n",
    "    \n",
    "    ax2.set_title(f'Workout Data for {sample_date_workout}')\n",
    "    ax2.set_xlabel('Time')\n",
    "    ax2.set_ylabel('Workout Type')\n",
    "    ax2.xaxis.set_major_formatter(mdates.DateFormatter('%H:%M'))\n",
    "    if 'type' in workout_day_data.columns and len(workout_types) > 0:\n",
    "        ax2.set_yticks(range(len(workout_types)))\n",
    "        ax2.set_yticklabels(workout_types)\n",
    "    ax2.grid(True)\n",
    "    ax2.legend()\n",
    "\n",
    "# Plot sleep data\n",
    "if not sleep_day_data.empty:\n",
    "    # For sleep data, we might want to show sleep states\n",
    "    if 'value' in sleep_day_data.columns:\n",
    "        sleep_states = sleep_day_data['value'].unique()\n",
    "        for i, state in enumerate(sleep_states):\n",
    "            state_data = sleep_day_data[sleep_day_data['value'] == state]\n",
    "            ax3.scatter(state_data['startTime'], [i] * len(state_data), label=state, alpha=0.7)\n",
    "    \n",
    "    ax3.set_title(f'Sleep Data for {sample_date_sleep}')\n",
    "    ax3.set_xlabel('Time')\n",
    "    ax3.set_ylabel('Sleep State')\n",
    "    ax3.xaxis.set_major_formatter(mdates.DateFormatter('%H:%M'))\n",
    "    if 'value' in sleep_day_data.columns and len(sleep_states) > 0:\n",
    "        ax3.set_yticks(range(len(sleep_states)))\n",
    "        ax3.set_yticklabels(sleep_states)\n",
    "    ax3.grid(True)\n",
    "    ax3.legend()\n",
    "\n",
    "plt.tight_layout()\n",
    "plt.show()\n"
   ]
  }
 ],
 "metadata": {
  "kernelspec": {
   "display_name": "venv",
   "language": "python",
   "name": "python3"
  },
  "language_info": {
   "codemirror_mode": {
    "name": "ipython",
    "version": 3
   },
   "file_extension": ".py",
   "mimetype": "text/x-python",
   "name": "python",
   "nbconvert_exporter": "python",
   "pygments_lexer": "ipython3",
   "version": "3.9.6"
  }
 },
 "nbformat": 4,
 "nbformat_minor": 2
}
